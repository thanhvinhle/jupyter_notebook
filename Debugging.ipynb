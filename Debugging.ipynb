{
 "cells": [
  {
   "cell_type": "markdown",
   "metadata": {},
   "source": [
    "# Profiling\n",
    "## Jupyter notebook help: 'Esc' (enter cmd mode); 'h' (open help)"
   ]
  },
  {
   "cell_type": "code",
   "execution_count": 3,
   "metadata": {
    "collapsed": false
   },
   "outputs": [
    {
     "name": "stdout",
     "output_type": "stream",
     "text": [
      "Time elapse: 0.000001 seconds\n"
     ]
    }
   ],
   "source": [
    "# Basic\n",
    "import time\n",
    "def f():\n",
    "    start = time.time()\n",
    "    # ... Doing something...\n",
    "    print(\"Time elapse: %f seconds\" % (time.time()-start))\n",
    "f()"
   ]
  },
  {
   "cell_type": "code",
   "execution_count": 14,
   "metadata": {
    "collapsed": false
   },
   "outputs": [
    {
     "name": "stdout",
     "output_type": "stream",
     "text": [
      "Hello  foo\n",
      "Executed \"myfunc\" w/ args('foo', 'bar'), kwargs{'taco': 'yep'} => res[None]\n",
      "Test @functools.wraps():  wrapper\n"
     ]
    }
   ],
   "source": [
    "# Decorator replaces a func with another\n",
    "# timing() wraps (decorates) the given func and return the decorated func\n",
    "import timeit\n",
    "import functools\n",
    "def timing(func):\n",
    "    #@functools.wraps(func)\n",
    "    def wrapper(*args, **kwargs):\n",
    "        start = timeit.default_timer()\n",
    "        res = func(*args, **kwargs)\n",
    "        print(f'Executed \"{func.__name__}\" w/ args{args}, kwargs{kwargs} => res[' + str(res) + ']')\n",
    "        return res\n",
    "    return wrapper\n",
    "\n",
    "# Passing decorated function 'myfunc()' to a decorator \"stack\" \n",
    "@timing\n",
    "def myfunc(a, b, taco=\"no\"):\n",
    "    print(\"Hello \", a)\n",
    "\n",
    "# Main\n",
    "decorated_f = myfunc('foo', 'bar', taco='yep')\n",
    "print(\"Test @functools.wraps(): \", myfunc.__name__)"
   ]
  },
  {
   "cell_type": "code",
   "execution_count": null,
   "metadata": {
    "collapsed": true
   },
   "outputs": [],
   "source": []
  }
 ],
 "metadata": {
  "kernelspec": {
   "display_name": "Python 2",
   "language": "python",
   "name": "python2"
  },
  "language_info": {
   "codemirror_mode": {
    "name": "ipython",
    "version": 2
   },
   "file_extension": ".py",
   "mimetype": "text/x-python",
   "name": "python",
   "nbconvert_exporter": "python",
   "pygments_lexer": "ipython2",
   "version": "2.7.16"
  }
 },
 "nbformat": 4,
 "nbformat_minor": 1
}
